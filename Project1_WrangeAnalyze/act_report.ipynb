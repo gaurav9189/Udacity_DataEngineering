{
 "cells": [
  {
   "cell_type": "markdown",
   "id": "9972b0f0",
   "metadata": {},
   "source": [
    "### Insights on visulisations and data wrangled\n",
    "\n",
    "I have collected the following insights-\n",
    "\n",
    "1. Most favourited dog\n",
    "2. Most re-tweeted dog\n",
    "3. Most owned/adopted dog breed\n",
    "4. Dog breed grouped by the stages of the dog\n",
    "\n",
    "I have made use of mix of pandas methods to provide this insight. I.e. using pandas sql method and running select statement of the master dataframe, as well as making use of core pandas methods such as value counts\n",
    "\n",
    "For visualisation i have made use of plot method in pandas and used line chart as well as bar chart to display the results. I have provided visualisation on the stages of the dogs(collecting additional stage data from the text column)\n",
    "\n",
    "I have gained valuable insights on understanding how can pandas be utilised to plot meaningful information visually."
   ]
  }
 ],
 "metadata": {
  "kernelspec": {
   "display_name": "Python 3 (ipykernel)",
   "language": "python",
   "name": "python3"
  },
  "language_info": {
   "codemirror_mode": {
    "name": "ipython",
    "version": 3
   },
   "file_extension": ".py",
   "mimetype": "text/x-python",
   "name": "python",
   "nbconvert_exporter": "python",
   "pygments_lexer": "ipython3",
   "version": "3.11.3"
  }
 },
 "nbformat": 4,
 "nbformat_minor": 5
}
